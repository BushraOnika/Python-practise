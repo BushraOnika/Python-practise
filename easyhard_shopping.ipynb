{
 "cells": [
  {
   "cell_type": "code",
   "id": "initial_id",
   "metadata": {
    "collapsed": true,
    "ExecuteTime": {
     "end_time": "2025-06-21T14:29:18.376869Z",
     "start_time": "2025-06-21T14:29:18.345Z"
    }
   },
   "source": [
    "import os\n",
    "name='Ankleboot_0 .png'\n",
    "for path,dir,files in os.walk('images_easy'):\n",
    "    if 'Ankleboot' in files:\n",
    "        print(\"Ankle boot Found\")\n",
    "    else:\n",
    "        print(\"Not Available\")"
   ],
   "outputs": [
    {
     "name": "stdout",
     "output_type": "stream",
     "text": [
      "Not Available\n"
     ]
    }
   ],
   "execution_count": 7
  },
  {
   "metadata": {
    "ExecuteTime": {
     "end_time": "2025-06-21T14:29:18.503684Z",
     "start_time": "2025-06-21T14:29:18.494930Z"
    }
   },
   "cell_type": "code",
   "source": "",
   "id": "51fe92f514596422",
   "outputs": [],
   "execution_count": null
  },
  {
   "metadata": {
    "ExecuteTime": {
     "end_time": "2025-06-21T14:29:18.551130Z",
     "start_time": "2025-06-21T14:29:18.535333Z"
    }
   },
   "cell_type": "code",
   "source": [
    "for path,dir,file in os.walk('images_hard'):\n",
    "    print(path,dir,file)"
   ],
   "id": "b4ae6c2fba14de10",
   "outputs": [
    {
     "name": "stdout",
     "output_type": "stream",
     "text": [
      "images_hard ['images_hard'] []\n",
      "images_hard\\images_hard ['Cloth'] ['Ankle boot_0.png', 'Sandal_8.png', 'Sandal_9.png', 'Sneaker_6.png']\n",
      "images_hard\\images_hard\\Cloth [] ['Dress_3.png', 'Pullover_5.png', 'Pullover_7.png', 'T-shirt_top_1.png', 'T-shirt_top_2.png', 'T-shirt_top_4.png']\n"
     ]
    }
   ],
   "execution_count": 8
  },
  {
   "metadata": {
    "ExecuteTime": {
     "end_time": "2025-06-21T14:29:18.662844Z",
     "start_time": "2025-06-21T14:29:18.648821Z"
    }
   },
   "cell_type": "code",
   "source": [
    "for path, dir, files in os.walk('images_hard'):\n",
    "    for file in files:\n",
    "        if file.rfind('Pullover') !=-1:\n",
    "            print(f\"{file} Found\")\n",
    "        else:\n",
    "            print(\"Not Available\")"
   ],
   "id": "c3c3a63e722ec14b",
   "outputs": [
    {
     "name": "stdout",
     "output_type": "stream",
     "text": [
      "Not Available\n",
      "Not Available\n",
      "Not Available\n",
      "Not Available\n",
      "Not Available\n",
      "Pullover_5.png Found\n",
      "Pullover_7.png Found\n",
      "Not Available\n",
      "Not Available\n",
      "Not Available\n"
     ]
    }
   ],
   "execution_count": 9
  }
 ],
 "metadata": {
  "kernelspec": {
   "display_name": "Python 3",
   "language": "python",
   "name": "python3"
  },
  "language_info": {
   "codemirror_mode": {
    "name": "ipython",
    "version": 2
   },
   "file_extension": ".py",
   "mimetype": "text/x-python",
   "name": "python",
   "nbconvert_exporter": "python",
   "pygments_lexer": "ipython2",
   "version": "2.7.6"
  }
 },
 "nbformat": 4,
 "nbformat_minor": 5
}

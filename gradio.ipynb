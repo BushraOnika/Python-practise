{
 "cells": [
  {
   "metadata": {
    "ExecuteTime": {
     "end_time": "2025-07-11T06:56:31.565703Z",
     "start_time": "2025-07-11T06:56:31.550544Z"
    }
   },
   "cell_type": "code",
   "source": "import gradio as gr\n",
   "id": "7e8de7b1f6b32b69",
   "outputs": [],
   "execution_count": 11
  },
  {
   "cell_type": "code",
   "id": "initial_id",
   "metadata": {
    "collapsed": true,
    "ExecuteTime": {
     "end_time": "2025-07-11T06:35:03.051443Z",
     "start_time": "2025-07-11T06:35:02.772408Z"
    }
   },
   "source": [
    "def greet(name, age):\n",
    "    output0 = f\"Hello, {name}!\"\n",
    "    output1 = f\"You are {age} years old\"\n",
    "    return output0, output1\n",
    "\n",
    "demo = gr.Interface(\n",
    "    fn=greet,\n",
    "    inputs=[\"text\", \"number\"],\n",
    "    outputs=[\"text\", \"text\"],\n",
    ")\n",
    "\n",
    "demo.launch()"
   ],
   "outputs": [
    {
     "name": "stdout",
     "output_type": "stream",
     "text": [
      "* Running on local URL:  http://127.0.0.1:7868\n",
      "\n",
      "To create a public link, set `share=True` in `launch()`.\n"
     ]
    },
    {
     "data": {
      "text/plain": [
       "<IPython.core.display.HTML object>"
      ],
      "text/html": [
       "<div><iframe src=\"http://127.0.0.1:7868/\" width=\"100%\" height=\"500\" allow=\"autoplay; camera; microphone; clipboard-read; clipboard-write;\" frameborder=\"0\" allowfullscreen></iframe></div>"
      ]
     },
     "metadata": {},
     "output_type": "display_data"
    },
    {
     "data": {
      "text/plain": []
     },
     "execution_count": 10,
     "metadata": {},
     "output_type": "execute_result"
    }
   ],
   "execution_count": 10
  },
  {
   "metadata": {
    "ExecuteTime": {
     "end_time": "2025-07-11T07:09:33.276502Z",
     "start_time": "2025-07-11T07:09:33.260664Z"
    }
   },
   "cell_type": "code",
   "source": [
    "def bmi_calculate(weight,height):\n",
    "    return  weight/float(height)\n"
   ],
   "id": "2e718e59a42d5c77",
   "outputs": [],
   "execution_count": 15
  },
  {
   "metadata": {
    "ExecuteTime": {
     "end_time": "2025-07-11T07:09:35.233823Z",
     "start_time": "2025-07-11T07:09:34.952469Z"
    }
   },
   "cell_type": "code",
   "source": [
    "demo=gr.Interface(\n",
    "    fn=bmi_calculate,\n",
    "    inputs=['number','number'],\n",
    "    outputs=['number']\n",
    "\n",
    ")\n",
    "demo.launch()"
   ],
   "id": "aea03082449073d9",
   "outputs": [
    {
     "name": "stdout",
     "output_type": "stream",
     "text": [
      "* Running on local URL:  http://127.0.0.1:7870\n",
      "\n",
      "To create a public link, set `share=True` in `launch()`.\n"
     ]
    },
    {
     "data": {
      "text/plain": [
       "<IPython.core.display.HTML object>"
      ],
      "text/html": [
       "<div><iframe src=\"http://127.0.0.1:7870/\" width=\"100%\" height=\"500\" allow=\"autoplay; camera; microphone; clipboard-read; clipboard-write;\" frameborder=\"0\" allowfullscreen></iframe></div>"
      ]
     },
     "metadata": {},
     "output_type": "display_data"
    },
    {
     "data": {
      "text/plain": []
     },
     "execution_count": 16,
     "metadata": {},
     "output_type": "execute_result"
    }
   ],
   "execution_count": 16
  }
 ],
 "metadata": {
  "kernelspec": {
   "display_name": "Python 3",
   "language": "python",
   "name": "python3"
  },
  "language_info": {
   "codemirror_mode": {
    "name": "ipython",
    "version": 2
   },
   "file_extension": ".py",
   "mimetype": "text/x-python",
   "name": "python",
   "nbconvert_exporter": "python",
   "pygments_lexer": "ipython2",
   "version": "2.7.6"
  }
 },
 "nbformat": 4,
 "nbformat_minor": 5
}

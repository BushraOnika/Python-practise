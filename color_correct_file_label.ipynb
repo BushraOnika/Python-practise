{
 "cells": [
  {
   "metadata": {
    "ExecuteTime": {
     "end_time": "2025-06-26T17:03:48.877686Z",
     "start_time": "2025-06-26T17:03:48.860395Z"
    }
   },
   "cell_type": "code",
   "source": [
    "import os\n",
    "for path,_, files in os.walk(\"Color_Correct_label\"):\n",
    "    for file in files:\n",
    "        if \"Black\" in file:\n",
    "            file_path=os.path.join(path,file)\n",
    "            print(file_path)\n",
    "            file_name=file.replace(\"Black\",\"green_r\")\n",
    "            print(file_name)\n",
    "            new_file_path=os.path.join(path,file_name)\n",
    "            print(new_file_path)\n",
    "            os.rename(file_path,new_file_path)\n",
    "        elif 'Blue' in file:\n",
    "            file_path=os.path.join(path,file)\n",
    "            file_name=file.replace(\"Blue\",\"red_r\")\n",
    "            new_file_path=os.path.join(path,file_name)\n",
    "            os.rename(file_path,new_file_path)\n",
    "        elif 'Green' in file:\n",
    "            file_path=os.path.join(path,file)\n",
    "            file_name=file.replace(\"Green\",\"blue_r\")\n",
    "            new_file_path=os.path.join(path,file_name)\n",
    "            os.rename(file_path,new_file_path)\n",
    "        elif 'Red' in file:\n",
    "            file_path=os.path.join(path,file)\n",
    "            file_name=file.replace(\"Red\",\"white_r\")\n",
    "            new_file_path=os.path.join(path,file_name)\n",
    "            os.rename(file_path,new_file_path)\n",
    "        elif 'White' in file:\n",
    "            file_path=os.path.join(path,file)\n",
    "            file_name=file.replace(\"White\",\"black_r\")\n",
    "            new_file_path=os.path.join(path,file_name)\n",
    "            os.rename(file_path,new_file_path)\n"
   ],
   "id": "766abe527e1499e",
   "outputs": [
    {
     "name": "stdout",
     "output_type": "stream",
     "text": [
      "Color_Correct_label\\Black.png\n",
      "green_r.png\n",
      "Color_Correct_label\\green_r.png\n"
     ]
    }
   ],
   "execution_count": 1
  },
  {
   "metadata": {
    "ExecuteTime": {
     "end_time": "2025-06-26T18:56:30.552361Z",
     "start_time": "2025-06-26T18:56:30.542288Z"
    }
   },
   "cell_type": "code",
   "source": [
    "name_map = {\n",
    "    \"Black\": \"Green_Renamed\",\n",
    "    \"Green\": \"Blue_Renamed\",\n",
    "    \"Red\": \"White_Renamed\",\n",
    "    \"White\": \"Black_Renamed\",\n",
    "    \"Blue\": \"Red_Renamed\"\n",
    "}\n",
    "print(name_map.items())\n",
    "for values , keys in name_map.items():\n",
    "    if 'Black' in values:\n",
    "        print(\"Found\")\n",
    "    print(values,keys)"
   ],
   "id": "bd1f4014bed1d564",
   "outputs": [
    {
     "name": "stdout",
     "output_type": "stream",
     "text": [
      "dict_items([('Black', 'Green_Renamed'), ('Green', 'Blue_Renamed'), ('Red', 'White_Renamed'), ('White', 'Black_Renamed'), ('Blue', 'Red_Renamed')])\n",
      "Found\n",
      "Black Green_Renamed\n",
      "Green Blue_Renamed\n",
      "Red White_Renamed\n",
      "White Black_Renamed\n",
      "Blue Red_Renamed\n"
     ]
    }
   ],
   "execution_count": 11
  },
  {
   "metadata": {},
   "cell_type": "code",
   "outputs": [],
   "execution_count": null,
   "source": [
    "for path,_, files in os.walk(\"Color_Correct_label\"):\n",
    "    for file in files:\n",
    "        if \"Black\" in file:\n",
    "            print()"
   ],
   "id": "a455739433518c44"
  }
 ],
 "metadata": {
  "kernelspec": {
   "display_name": "Python 3",
   "language": "python",
   "name": "python3"
  },
  "language_info": {
   "codemirror_mode": {
    "name": "ipython",
    "version": 2
   },
   "file_extension": ".py",
   "mimetype": "text/x-python",
   "name": "python",
   "nbconvert_exporter": "python",
   "pygments_lexer": "ipython2",
   "version": "2.7.6"
  }
 },
 "nbformat": 4,
 "nbformat_minor": 5
}

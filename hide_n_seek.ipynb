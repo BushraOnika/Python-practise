{
 "cells": [
  {
   "cell_type": "code",
   "id": "initial_id",
   "metadata": {
    "collapsed": true,
    "ExecuteTime": {
     "end_time": "2025-07-15T15:24:01.249084Z",
     "start_time": "2025-07-15T15:24:01.245618Z"
    }
   },
   "source": [
    "import random\n",
    "class EscapeRoom:\n",
    "    def __init__(self):\n",
    "        self.win_room_num=random.randint(1,5)\n",
    "        self.list_room=[1,2,3,4,5]\n",
    "\n",
    "    def guess(self,guess_room_num):\n",
    "        if guess_room_num in self.list_room:\n",
    "            self.list_room.remove(guess_room_num)\n",
    "        else:\n",
    "            return False\n",
    "        return guess_room_num == self.win_room_num\n",
    "\n",
    "    def remaining_room(self):\n",
    "        return  self.list_room\n"
   ],
   "outputs": [],
   "execution_count": 16
  },
  {
   "metadata": {
    "ExecuteTime": {
     "end_time": "2025-07-15T16:29:12.222694Z",
     "start_time": "2025-07-15T16:29:12.217276Z"
    }
   },
   "cell_type": "code",
   "source": [
    "def play(escape_room:EscapeRoom,room_guess):\n",
    "    if escape_room.guess(room_guess): return  \"You winn yeee\"\n",
    "    else: return f\"Sorry try again from these room numbers : {escape_room.remaining_room()}\""
   ],
   "id": "206bab8274098177",
   "outputs": [],
   "execution_count": 27
  },
  {
   "metadata": {
    "ExecuteTime": {
     "end_time": "2025-07-15T16:28:15.864893Z",
     "start_time": "2025-07-15T16:28:15.853777Z"
    }
   },
   "cell_type": "code",
   "source": "import gradio as gr",
   "id": "ae952377b1629306",
   "outputs": [],
   "execution_count": 25
  },
  {
   "metadata": {
    "ExecuteTime": {
     "end_time": "2025-07-15T16:29:15.054050Z",
     "start_time": "2025-07-15T16:29:14.831250Z"
    }
   },
   "cell_type": "code",
   "source": [
    "with gr.Blocks() as demo:\n",
    "    escape_room = gr.State(EscapeRoom())\n",
    "    input = gr.Number(1)\n",
    "    btn = gr.Button()\n",
    "    output=gr.Textbox()\n",
    "    btn.click(fn=play,inputs=[escape_room,input],outputs=output)\n",
    "demo.launch()"
   ],
   "id": "9b8a01605aba04dd",
   "outputs": [
    {
     "name": "stdout",
     "output_type": "stream",
     "text": [
      "* Running on local URL:  http://127.0.0.1:7871\n",
      "* To create a public link, set `share=True` in `launch()`.\n"
     ]
    },
    {
     "data": {
      "text/plain": [
       "<IPython.core.display.HTML object>"
      ],
      "text/html": [
       "<div><iframe src=\"http://127.0.0.1:7871/\" width=\"100%\" height=\"500\" allow=\"autoplay; camera; microphone; clipboard-read; clipboard-write;\" frameborder=\"0\" allowfullscreen></iframe></div>"
      ]
     },
     "metadata": {},
     "output_type": "display_data"
    },
    {
     "data": {
      "text/plain": []
     },
     "execution_count": 28,
     "metadata": {},
     "output_type": "execute_result"
    }
   ],
   "execution_count": 28
  },
  {
   "metadata": {
    "ExecuteTime": {
     "end_time": "2025-07-15T15:57:36.151099Z",
     "start_time": "2025-07-15T15:57:35.767333Z"
    }
   },
   "cell_type": "code",
   "source": [
    "import gradio as gr\n",
    "\n",
    "with gr.Blocks() as demo:\n",
    "    cart = gr.State([])\n",
    "    items_to_add = gr.CheckboxGroup([\"Cereal\", \"Milk\", \"Orange Juice\", \"Water\"])\n",
    "\n",
    "    def add_items(new_items, previous_cart):\n",
    "        cart = previous_cart + new_items\n",
    "        return cart\n",
    "\n",
    "    gr.Button(\"Add Items\").click(add_items, [items_to_add, cart], cart)\n",
    "\n",
    "    cart_size = gr.Number(label=\"Cart Size\")\n",
    "    cart.change(lambda cart: len(cart), cart, cart_size)\n",
    "\n",
    "demo.launch()"
   ],
   "id": "b5699b3428148f6a",
   "outputs": [
    {
     "name": "stdout",
     "output_type": "stream",
     "text": [
      "* Running on local URL:  http://127.0.0.1:7866\n",
      "* To create a public link, set `share=True` in `launch()`.\n"
     ]
    },
    {
     "data": {
      "text/plain": [
       "<IPython.core.display.HTML object>"
      ],
      "text/html": [
       "<div><iframe src=\"http://127.0.0.1:7866/\" width=\"100%\" height=\"500\" allow=\"autoplay; camera; microphone; clipboard-read; clipboard-write;\" frameborder=\"0\" allowfullscreen></iframe></div>"
      ]
     },
     "metadata": {},
     "output_type": "display_data"
    },
    {
     "data": {
      "text/plain": []
     },
     "execution_count": 20,
     "metadata": {},
     "output_type": "execute_result"
    }
   ],
   "execution_count": 20
  },
  {
   "metadata": {},
   "cell_type": "code",
   "outputs": [],
   "execution_count": null,
   "source": "",
   "id": "6d29e0cf5f500162"
  }
 ],
 "metadata": {
  "kernelspec": {
   "display_name": "Python 3",
   "language": "python",
   "name": "python3"
  },
  "language_info": {
   "codemirror_mode": {
    "name": "ipython",
    "version": 2
   },
   "file_extension": ".py",
   "mimetype": "text/x-python",
   "name": "python",
   "nbconvert_exporter": "python",
   "pygments_lexer": "ipython2",
   "version": "2.7.6"
  }
 },
 "nbformat": 4,
 "nbformat_minor": 5
}

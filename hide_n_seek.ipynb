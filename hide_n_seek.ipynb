{
 "cells": [
  {
   "cell_type": "code",
   "id": "initial_id",
   "metadata": {
    "collapsed": true,
    "ExecuteTime": {
     "end_time": "2025-07-12T17:00:49.896926Z",
     "start_time": "2025-07-12T17:00:49.870186Z"
    }
   },
   "source": [
    "import random\n",
    "class EscapeRoom:\n",
    "    def __init__(self):\n",
    "        self.win_room_num=random.randint(1,5)\n",
    "        self.list_room=[1,2,3,4,5]\n",
    "\n",
    "    def guess(self,guess_room_num):\n",
    "        if guess_room_num in self.list_room:\n",
    "            self.list_room.remove(guess_room_num)\n",
    "        else:\n",
    "            return False\n",
    "        return guess_room_num == self.win_room_num\n",
    "\n",
    "    def remaining_room(self):\n",
    "        return  self.list_room\n"
   ],
   "outputs": [],
   "execution_count": 1
  },
  {
   "metadata": {},
   "cell_type": "code",
   "outputs": [],
   "execution_count": null,
   "source": [
    "def play(escape_room:EscapeRoom,room_guess):\n",
    "    if escape_room.guess(room_guess): return  \"You winn yeee\"\n",
    "    else: return \"Sorry try again from these room numbers : \"+escape_room.remaining_room()"
   ],
   "id": "206bab8274098177"
  },
  {
   "metadata": {},
   "cell_type": "code",
   "outputs": [],
   "execution_count": null,
   "source": "import",
   "id": "ae952377b1629306"
  }
 ],
 "metadata": {
  "kernelspec": {
   "display_name": "Python 3",
   "language": "python",
   "name": "python3"
  },
  "language_info": {
   "codemirror_mode": {
    "name": "ipython",
    "version": 2
   },
   "file_extension": ".py",
   "mimetype": "text/x-python",
   "name": "python",
   "nbconvert_exporter": "python",
   "pygments_lexer": "ipython2",
   "version": "2.7.6"
  }
 },
 "nbformat": 4,
 "nbformat_minor": 5
}

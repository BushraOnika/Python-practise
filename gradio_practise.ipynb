{
 "cells": [
  {
   "metadata": {
    "ExecuteTime": {
     "end_time": "2025-07-11T14:36:52.735860Z",
     "start_time": "2025-07-11T14:36:52.728286Z"
    }
   },
   "cell_type": "code",
   "source": [
    "import random\n",
    "\n",
    "import gradio as gr"
   ],
   "id": "aadd6a8777bcb931",
   "outputs": [],
   "execution_count": 17
  },
  {
   "metadata": {
    "ExecuteTime": {
     "end_time": "2025-07-11T14:36:52.891750Z",
     "start_time": "2025-07-11T14:36:52.869290Z"
    }
   },
   "cell_type": "code",
   "source": [
    "class EscapeRoom:\n",
    "    def __init__(self):\n",
    "        self.win_room_num=random.randint(1,5)\n",
    "        self.list_room=[1,2,3,4,5]\n",
    "\n",
    "    def guess(self,guess_room_num):\n",
    "        if guess_room_num in self.list_room:\n",
    "            self.list_room.remove(guess_room_num)\n",
    "        else:\n",
    "            return False\n",
    "        return guess_room_num == self.win_room_num\n",
    "\n",
    "    def remaining_room(self):\n",
    "        return  self.list_room\n"
   ],
   "id": "730b650680c8abb9",
   "outputs": [],
   "execution_count": 18
  },
  {
   "metadata": {
    "ExecuteTime": {
     "end_time": "2025-07-11T14:39:30.053687Z",
     "start_time": "2025-07-11T14:39:30.042236Z"
    }
   },
   "cell_type": "code",
   "source": [
    "def play(room_num_guess):\n",
    "    return room_num_guess\n",
    "    while escape_room.guess(room_num_guess)==False:\n",
    "        room_num_guess=int(input(f\"Sorry try again from {escape_room.remaining_room()}\"))\n",
    "    print(\"You win\")"
   ],
   "id": "47ac31bcf0e60074",
   "outputs": [],
   "execution_count": 23
  },
  {
   "metadata": {
    "ExecuteTime": {
     "end_time": "2025-07-11T14:43:09.095594Z",
     "start_time": "2025-07-11T14:43:08.015605Z"
    }
   },
   "cell_type": "code",
   "source": "",
   "id": "9452515e80189bbd",
   "outputs": [
    {
     "ename": "ValueError",
     "evalue": "No such component or layout: param. It is possible it is a custom component, in which case make sure it is installed and imported in your python session.",
     "output_type": "error",
     "traceback": [
      "\u001B[1;31m---------------------------------------------------------------------------\u001B[0m",
      "\u001B[1;31mValueError\u001B[0m                                Traceback (most recent call last)",
      "Cell \u001B[1;32mIn[26], line 1\u001B[0m\n\u001B[1;32m----> 1\u001B[0m demo\u001B[38;5;241m=\u001B[39m\u001B[43mgr\u001B[49m\u001B[38;5;241;43m.\u001B[39;49m\u001B[43mInterface\u001B[49m\u001B[43m(\u001B[49m\n\u001B[0;32m      2\u001B[0m \u001B[43m    \u001B[49m\u001B[43mfn\u001B[49m\u001B[38;5;241;43m=\u001B[39;49m\u001B[43mplay\u001B[49m\u001B[43m,\u001B[49m\n\u001B[0;32m      3\u001B[0m \u001B[43m    \u001B[49m\u001B[43minputs\u001B[49m\u001B[38;5;241;43m=\u001B[39;49m\u001B[43m[\u001B[49m\u001B[38;5;124;43m'\u001B[39;49m\u001B[38;5;124;43mnumber\u001B[39;49m\u001B[38;5;124;43m'\u001B[39;49m\u001B[43m,\u001B[49m\u001B[38;5;124;43m'\u001B[39;49m\u001B[38;5;124;43mparam\u001B[39;49m\u001B[38;5;124;43m'\u001B[39;49m\u001B[43m]\u001B[49m\u001B[43m,\u001B[49m\n\u001B[0;32m      4\u001B[0m \u001B[43m    \u001B[49m\u001B[43moutputs\u001B[49m\u001B[38;5;241;43m=\u001B[39;49m\u001B[43m[\u001B[49m\u001B[38;5;124;43m'\u001B[39;49m\u001B[38;5;124;43mnumber\u001B[39;49m\u001B[38;5;124;43m'\u001B[39;49m\u001B[43m]\u001B[49m\n\u001B[0;32m      5\u001B[0m \n\u001B[0;32m      6\u001B[0m \u001B[43m)\u001B[49m\n\u001B[0;32m      7\u001B[0m demo\u001B[38;5;241m.\u001B[39mlaunch()\n",
      "File \u001B[1;32m~\\.virtualenvs\\numpy\\lib\\site-packages\\gradio\\interface.py:242\u001B[0m, in \u001B[0;36mInterface.__init__\u001B[1;34m(self, fn, inputs, outputs, examples, cache_examples, cache_mode, examples_per_page, example_labels, live, title, description, article, theme, flagging_mode, flagging_options, flagging_dir, flagging_callback, analytics_enabled, batch, max_batch_size, api_name, _api_mode, allow_duplication, concurrency_limit, css, css_paths, js, head, head_paths, additional_inputs, additional_inputs_accordion, submit_btn, stop_btn, clear_btn, delete_cache, show_progress, fill_width, allow_flagging, time_limit, stream_every, **kwargs)\u001B[0m\n\u001B[0;32m    239\u001B[0m \u001B[38;5;28mself\u001B[39m\u001B[38;5;241m.\u001B[39mcache_examples \u001B[38;5;241m=\u001B[39m cache_examples\n\u001B[0;32m    240\u001B[0m \u001B[38;5;28mself\u001B[39m\u001B[38;5;241m.\u001B[39mcache_mode: Literal[\u001B[38;5;124m\"\u001B[39m\u001B[38;5;124meager\u001B[39m\u001B[38;5;124m\"\u001B[39m, \u001B[38;5;124m\"\u001B[39m\u001B[38;5;124mlazy\u001B[39m\u001B[38;5;124m\"\u001B[39m] \u001B[38;5;241m|\u001B[39m \u001B[38;5;28;01mNone\u001B[39;00m \u001B[38;5;241m=\u001B[39m cache_mode\n\u001B[1;32m--> 242\u001B[0m \u001B[38;5;28mself\u001B[39m\u001B[38;5;241m.\u001B[39mmain_input_components \u001B[38;5;241m=\u001B[39m [\n\u001B[0;32m    243\u001B[0m     get_component_instance(i, unrender\u001B[38;5;241m=\u001B[39m\u001B[38;5;28;01mTrue\u001B[39;00m) \u001B[38;5;28;01mfor\u001B[39;00m i \u001B[38;5;129;01min\u001B[39;00m inputs\n\u001B[0;32m    244\u001B[0m ]\n\u001B[0;32m    245\u001B[0m \u001B[38;5;28mself\u001B[39m\u001B[38;5;241m.\u001B[39minput_components \u001B[38;5;241m=\u001B[39m (\n\u001B[0;32m    246\u001B[0m     \u001B[38;5;28mself\u001B[39m\u001B[38;5;241m.\u001B[39mmain_input_components \u001B[38;5;241m+\u001B[39m \u001B[38;5;28mself\u001B[39m\u001B[38;5;241m.\u001B[39madditional_input_components\n\u001B[0;32m    247\u001B[0m )\n\u001B[0;32m    248\u001B[0m \u001B[38;5;28mself\u001B[39m\u001B[38;5;241m.\u001B[39moutput_components \u001B[38;5;241m=\u001B[39m [\n\u001B[0;32m    249\u001B[0m     get_component_instance(o, unrender\u001B[38;5;241m=\u001B[39m\u001B[38;5;28;01mTrue\u001B[39;00m)\n\u001B[0;32m    250\u001B[0m     \u001B[38;5;28;01mfor\u001B[39;00m o \u001B[38;5;129;01min\u001B[39;00m outputs  \u001B[38;5;66;03m# type: ignore\u001B[39;00m\n\u001B[0;32m    251\u001B[0m ]\n",
      "File \u001B[1;32m~\\.virtualenvs\\numpy\\lib\\site-packages\\gradio\\interface.py:243\u001B[0m, in \u001B[0;36m<listcomp>\u001B[1;34m(.0)\u001B[0m\n\u001B[0;32m    239\u001B[0m \u001B[38;5;28mself\u001B[39m\u001B[38;5;241m.\u001B[39mcache_examples \u001B[38;5;241m=\u001B[39m cache_examples\n\u001B[0;32m    240\u001B[0m \u001B[38;5;28mself\u001B[39m\u001B[38;5;241m.\u001B[39mcache_mode: Literal[\u001B[38;5;124m\"\u001B[39m\u001B[38;5;124meager\u001B[39m\u001B[38;5;124m\"\u001B[39m, \u001B[38;5;124m\"\u001B[39m\u001B[38;5;124mlazy\u001B[39m\u001B[38;5;124m\"\u001B[39m] \u001B[38;5;241m|\u001B[39m \u001B[38;5;28;01mNone\u001B[39;00m \u001B[38;5;241m=\u001B[39m cache_mode\n\u001B[0;32m    242\u001B[0m \u001B[38;5;28mself\u001B[39m\u001B[38;5;241m.\u001B[39mmain_input_components \u001B[38;5;241m=\u001B[39m [\n\u001B[1;32m--> 243\u001B[0m     \u001B[43mget_component_instance\u001B[49m\u001B[43m(\u001B[49m\u001B[43mi\u001B[49m\u001B[43m,\u001B[49m\u001B[43m \u001B[49m\u001B[43munrender\u001B[49m\u001B[38;5;241;43m=\u001B[39;49m\u001B[38;5;28;43;01mTrue\u001B[39;49;00m\u001B[43m)\u001B[49m \u001B[38;5;28;01mfor\u001B[39;00m i \u001B[38;5;129;01min\u001B[39;00m inputs\n\u001B[0;32m    244\u001B[0m ]\n\u001B[0;32m    245\u001B[0m \u001B[38;5;28mself\u001B[39m\u001B[38;5;241m.\u001B[39minput_components \u001B[38;5;241m=\u001B[39m (\n\u001B[0;32m    246\u001B[0m     \u001B[38;5;28mself\u001B[39m\u001B[38;5;241m.\u001B[39mmain_input_components \u001B[38;5;241m+\u001B[39m \u001B[38;5;28mself\u001B[39m\u001B[38;5;241m.\u001B[39madditional_input_components\n\u001B[0;32m    247\u001B[0m )\n\u001B[0;32m    248\u001B[0m \u001B[38;5;28mself\u001B[39m\u001B[38;5;241m.\u001B[39moutput_components \u001B[38;5;241m=\u001B[39m [\n\u001B[0;32m    249\u001B[0m     get_component_instance(o, unrender\u001B[38;5;241m=\u001B[39m\u001B[38;5;28;01mTrue\u001B[39;00m)\n\u001B[0;32m    250\u001B[0m     \u001B[38;5;28;01mfor\u001B[39;00m o \u001B[38;5;129;01min\u001B[39;00m outputs  \u001B[38;5;66;03m# type: ignore\u001B[39;00m\n\u001B[0;32m    251\u001B[0m ]\n",
      "File \u001B[1;32m~\\.virtualenvs\\numpy\\lib\\site-packages\\gradio\\components\\base.py:440\u001B[0m, in \u001B[0;36mget_component_instance\u001B[1;34m(comp, render, unrender)\u001B[0m\n\u001B[0;32m    432\u001B[0m \u001B[38;5;250m\u001B[39m\u001B[38;5;124;03m\"\"\"\u001B[39;00m\n\u001B[0;32m    433\u001B[0m \u001B[38;5;124;03mReturns a component instance from a string, dict, or Component object.\u001B[39;00m\n\u001B[0;32m    434\u001B[0m \u001B[38;5;124;03mParameters:\u001B[39;00m\n\u001B[1;32m   (...)\u001B[0m\n\u001B[0;32m    437\u001B[0m \u001B[38;5;124;03m    unrender: whether to unrender the component. If True, unrenders the the component (if already rendered) -- this is useful when constructing an Interface or ChatInterface inside of a Blocks. If False, does not do anything.\u001B[39;00m\n\u001B[0;32m    438\u001B[0m \u001B[38;5;124;03m\"\"\"\u001B[39;00m\n\u001B[0;32m    439\u001B[0m \u001B[38;5;28;01mif\u001B[39;00m \u001B[38;5;28misinstance\u001B[39m(comp, \u001B[38;5;28mstr\u001B[39m):\n\u001B[1;32m--> 440\u001B[0m     component_obj \u001B[38;5;241m=\u001B[39m \u001B[43mcomponent\u001B[49m\u001B[43m(\u001B[49m\u001B[43mcomp\u001B[49m\u001B[43m,\u001B[49m\u001B[43m \u001B[49m\u001B[43mrender\u001B[49m\u001B[38;5;241;43m=\u001B[39;49m\u001B[43mrender\u001B[49m\u001B[43m)\u001B[49m\n\u001B[0;32m    441\u001B[0m \u001B[38;5;28;01melif\u001B[39;00m \u001B[38;5;28misinstance\u001B[39m(comp, \u001B[38;5;28mdict\u001B[39m):\n\u001B[0;32m    442\u001B[0m     name \u001B[38;5;241m=\u001B[39m comp\u001B[38;5;241m.\u001B[39mpop(\u001B[38;5;124m\"\u001B[39m\u001B[38;5;124mname\u001B[39m\u001B[38;5;124m\"\u001B[39m)\n",
      "File \u001B[1;32m~\\.virtualenvs\\numpy\\lib\\site-packages\\gradio\\components\\base.py:421\u001B[0m, in \u001B[0;36mcomponent\u001B[1;34m(cls_name, render)\u001B[0m\n\u001B[0;32m    420\u001B[0m \u001B[38;5;28;01mdef\u001B[39;00m\u001B[38;5;250m \u001B[39m\u001B[38;5;21mcomponent\u001B[39m(cls_name: \u001B[38;5;28mstr\u001B[39m, render: \u001B[38;5;28mbool\u001B[39m) \u001B[38;5;241m-\u001B[39m\u001B[38;5;241m>\u001B[39m Component:\n\u001B[1;32m--> 421\u001B[0m     obj \u001B[38;5;241m=\u001B[39m \u001B[43mutils\u001B[49m\u001B[38;5;241;43m.\u001B[39;49m\u001B[43mcomponent_or_layout_class\u001B[49m\u001B[43m(\u001B[49m\u001B[43mcls_name\u001B[49m\u001B[43m)\u001B[49m(render\u001B[38;5;241m=\u001B[39mrender)\n\u001B[0;32m    422\u001B[0m     \u001B[38;5;28;01mif\u001B[39;00m \u001B[38;5;28misinstance\u001B[39m(obj, BlockContext):\n\u001B[0;32m    423\u001B[0m         \u001B[38;5;28;01mraise\u001B[39;00m \u001B[38;5;167;01mValueError\u001B[39;00m(\u001B[38;5;124mf\u001B[39m\u001B[38;5;124m\"\u001B[39m\u001B[38;5;124mInvalid component: \u001B[39m\u001B[38;5;132;01m{\u001B[39;00mobj\u001B[38;5;241m.\u001B[39m\u001B[38;5;18m__class__\u001B[39m\u001B[38;5;132;01m}\u001B[39;00m\u001B[38;5;124m\"\u001B[39m)\n",
      "File \u001B[1;32m~\\.virtualenvs\\numpy\\lib\\site-packages\\gradio\\utils.py:667\u001B[0m, in \u001B[0;36mcomponent_or_layout_class\u001B[1;34m(cls_name)\u001B[0m\n\u001B[0;32m    664\u001B[0m \u001B[38;5;28;01mif\u001B[39;00m cls_name\u001B[38;5;241m.\u001B[39mreplace(\u001B[38;5;124m\"\u001B[39m\u001B[38;5;124m_\u001B[39m\u001B[38;5;124m\"\u001B[39m, \u001B[38;5;124m\"\u001B[39m\u001B[38;5;124m\"\u001B[39m) \u001B[38;5;129;01min\u001B[39;00m components:\n\u001B[0;32m    665\u001B[0m     \u001B[38;5;28;01mreturn\u001B[39;00m components[cls_name\u001B[38;5;241m.\u001B[39mreplace(\u001B[38;5;124m\"\u001B[39m\u001B[38;5;124m_\u001B[39m\u001B[38;5;124m\"\u001B[39m, \u001B[38;5;124m\"\u001B[39m\u001B[38;5;124m\"\u001B[39m)]\n\u001B[1;32m--> 667\u001B[0m \u001B[38;5;28;01mraise\u001B[39;00m \u001B[38;5;167;01mValueError\u001B[39;00m(\n\u001B[0;32m    668\u001B[0m     \u001B[38;5;124mf\u001B[39m\u001B[38;5;124m\"\u001B[39m\u001B[38;5;124mNo such component or layout: \u001B[39m\u001B[38;5;132;01m{\u001B[39;00mcls_name\u001B[38;5;132;01m}\u001B[39;00m\u001B[38;5;124m. \u001B[39m\u001B[38;5;124m\"\u001B[39m\n\u001B[0;32m    669\u001B[0m     \u001B[38;5;124m\"\u001B[39m\u001B[38;5;124mIt is possible it is a custom component, \u001B[39m\u001B[38;5;124m\"\u001B[39m\n\u001B[0;32m    670\u001B[0m     \u001B[38;5;124m\"\u001B[39m\u001B[38;5;124min which case make sure it is installed and imported in your python session.\u001B[39m\u001B[38;5;124m\"\u001B[39m\n\u001B[0;32m    671\u001B[0m )\n",
      "\u001B[1;31mValueError\u001B[0m: No such component or layout: param. It is possible it is a custom component, in which case make sure it is installed and imported in your python session."
     ]
    }
   ],
   "execution_count": 26
  },
  {
   "metadata": {
    "ExecuteTime": {
     "end_time": "2025-07-11T16:48:41.643977Z",
     "start_time": "2025-07-11T16:48:41.609639Z"
    }
   },
   "cell_type": "code",
   "source": [
    "class Counter:\n",
    "    def __init__(self):\n",
    "        self.count = 0\n",
    "        print(\"New Counter created!\")\n",
    "\n",
    "    def add_amount(self, amount):\n",
    "        self.count += amount"
   ],
   "id": "3912a4bec6375e07",
   "outputs": [],
   "execution_count": 42
  },
  {
   "metadata": {
    "ExecuteTime": {
     "end_time": "2025-07-11T17:02:15.032726Z",
     "start_time": "2025-07-11T17:02:13.324117Z"
    }
   },
   "cell_type": "code",
   "source": [
    "counter=Counter()\n",
    "\n",
    "with gr.Blocks() as demo:\n",
    "    input=gr.Number()\n",
    "    output=gr.Textbox()\n",
    "    btn=gr.Button(\"Submit\")\n",
    "    btn.click(fn=counter.add_amount,inputs=input,outputs=output)\n",
    "demo.launch()"
   ],
   "id": "8f456e5d20e31249",
   "outputs": [
    {
     "name": "stdout",
     "output_type": "stream",
     "text": [
      "New Counter created!\n",
      "* Running on local URL:  http://127.0.0.1:7886\n",
      "\n",
      "To create a public link, set `share=True` in `launch()`.\n"
     ]
    },
    {
     "data": {
      "text/plain": [
       "<IPython.core.display.HTML object>"
      ],
      "text/html": [
       "<div><iframe src=\"http://127.0.0.1:7886/\" width=\"100%\" height=\"500\" allow=\"autoplay; camera; microphone; clipboard-read; clipboard-write;\" frameborder=\"0\" allowfullscreen></iframe></div>"
      ]
     },
     "metadata": {},
     "output_type": "display_data"
    },
    {
     "data": {
      "text/plain": []
     },
     "execution_count": 48,
     "metadata": {},
     "output_type": "execute_result"
    }
   ],
   "execution_count": 48
  },
  {
   "metadata": {
    "ExecuteTime": {
     "end_time": "2025-07-11T16:41:07.264693Z",
     "start_time": "2025-07-11T16:40:47.212589Z"
    }
   },
   "cell_type": "code",
   "source": [
    "def hello():\n",
    "    return \"Hello\"\n",
    "\n",
    "with gr.Blocks() as demo:\n",
    "     name= gr.Button(\"Name\")\n",
    "     output=gr.Textbox()\n",
    "     name.click(fn=hello,outputs=output)\n",
    "\n",
    "demo.launch(share=True)"
   ],
   "id": "9d1ebc1fb5ae9adb",
   "outputs": [
    {
     "name": "stdout",
     "output_type": "stream",
     "text": [
      "* Running on local URL:  http://127.0.0.1:7880\n",
      "* Running on public URL: https://2d0db56e71b1e938f6.gradio.live\n",
      "\n",
      "This share link expires in 72 hours. For free permanent hosting and GPU upgrades, run `gradio deploy` from the terminal in the working directory to deploy to Hugging Face Spaces (https://huggingface.co/spaces)\n"
     ]
    },
    {
     "data": {
      "text/plain": [
       "<IPython.core.display.HTML object>"
      ],
      "text/html": [
       "<div><iframe src=\"https://2d0db56e71b1e938f6.gradio.live\" width=\"100%\" height=\"500\" allow=\"autoplay; camera; microphone; clipboard-read; clipboard-write;\" frameborder=\"0\" allowfullscreen></iframe></div>"
      ]
     },
     "metadata": {},
     "output_type": "display_data"
    },
    {
     "data": {
      "text/plain": []
     },
     "execution_count": 40,
     "metadata": {},
     "output_type": "execute_result"
    }
   ],
   "execution_count": 40
  },
  {
   "metadata": {
    "ExecuteTime": {
     "end_time": "2025-07-11T16:35:09.105939Z",
     "start_time": "2025-07-11T16:35:08.308783Z"
    }
   },
   "cell_type": "code",
   "source": [
    "import gradio as gr\n",
    "def update(name):\n",
    "    return f\"Welcome to Gradio, {name}!\"\n",
    "\n",
    "with gr.Blocks() as demo:\n",
    "    gr.Markdown(\"Start typing below and then click **Run** to see the output.\")\n",
    "    with gr.Row():\n",
    "        inp = gr.Textbox(placeholder=\"What is your name?\")\n",
    "        out = gr.Textbox()\n",
    "    btn = gr.Button(\"Run\")\n",
    "    btn.click(fn=update, inputs=inp, outputs=out)\n",
    "\n",
    "demo.launch()"
   ],
   "id": "58d301fef9972fea",
   "outputs": [
    {
     "name": "stdout",
     "output_type": "stream",
     "text": [
      "* Running on local URL:  http://127.0.0.1:7878\n",
      "\n",
      "To create a public link, set `share=True` in `launch()`.\n"
     ]
    },
    {
     "data": {
      "text/plain": [
       "<IPython.core.display.HTML object>"
      ],
      "text/html": [
       "<div><iframe src=\"http://127.0.0.1:7878/\" width=\"100%\" height=\"500\" allow=\"autoplay; camera; microphone; clipboard-read; clipboard-write;\" frameborder=\"0\" allowfullscreen></iframe></div>"
      ]
     },
     "metadata": {},
     "output_type": "display_data"
    },
    {
     "data": {
      "text/plain": []
     },
     "execution_count": 36,
     "metadata": {},
     "output_type": "execute_result"
    }
   ],
   "execution_count": 36
  },
  {
   "metadata": {
    "ExecuteTime": {
     "end_time": "2025-07-11T16:33:30.347466Z",
     "start_time": "2025-07-11T16:33:30.039493Z"
    }
   },
   "cell_type": "code",
   "source": "demo.launch()",
   "id": "fa5ee8cda058b8d5",
   "outputs": [
    {
     "name": "stdout",
     "output_type": "stream",
     "text": [
      "* Running on local URL:  http://127.0.0.1:7877\n",
      "\n",
      "To create a public link, set `share=True` in `launch()`.\n"
     ]
    },
    {
     "data": {
      "text/plain": [
       "<IPython.core.display.HTML object>"
      ],
      "text/html": [
       "<div><iframe src=\"http://127.0.0.1:7877/\" width=\"100%\" height=\"500\" allow=\"autoplay; camera; microphone; clipboard-read; clipboard-write;\" frameborder=\"0\" allowfullscreen></iframe></div>"
      ]
     },
     "metadata": {},
     "output_type": "display_data"
    },
    {
     "data": {
      "text/plain": []
     },
     "execution_count": 35,
     "metadata": {},
     "output_type": "execute_result"
    }
   ],
   "execution_count": 35
  },
  {
   "metadata": {
    "ExecuteTime": {
     "end_time": "2025-07-11T17:30:24.140242Z",
     "start_time": "2025-07-11T17:30:23.980200Z"
    }
   },
   "cell_type": "code",
   "source": "visitor_count = 0\n",
   "id": "80ade6c1591d7451",
   "outputs": [],
   "execution_count": 50
  },
  {
   "metadata": {
    "ExecuteTime": {
     "end_time": "2025-07-11T17:32:45.675951Z",
     "start_time": "2025-07-11T17:32:39.329745Z"
    }
   },
   "cell_type": "code",
   "source": [
    "\n",
    "def increment_counter():\n",
    "    global visitor_count\n",
    "    visitor_count += 1\n",
    "    return visitor_count\n",
    "\n",
    "with gr.Blocks() as demo:\n",
    "    number = gr.Textbox(label=\"Total Visitors\", value=\"Counting...\")\n",
    "    demo.load(increment_counter, inputs=None, outputs=number)\n",
    "\n",
    "demo.launch(share=True)"
   ],
   "id": "54593dd40d42d94c",
   "outputs": [
    {
     "name": "stdout",
     "output_type": "stream",
     "text": [
      "* Running on local URL:  http://127.0.0.1:7890\n",
      "* Running on public URL: https://02854b11facf927f23.gradio.live\n",
      "\n",
      "This share link expires in 72 hours. For free permanent hosting and GPU upgrades, run `gradio deploy` from the terminal in the working directory to deploy to Hugging Face Spaces (https://huggingface.co/spaces)\n"
     ]
    },
    {
     "data": {
      "text/plain": [
       "<IPython.core.display.HTML object>"
      ],
      "text/html": [
       "<div><iframe src=\"https://02854b11facf927f23.gradio.live\" width=\"100%\" height=\"500\" allow=\"autoplay; camera; microphone; clipboard-read; clipboard-write;\" frameborder=\"0\" allowfullscreen></iframe></div>"
      ]
     },
     "metadata": {},
     "output_type": "display_data"
    },
    {
     "data": {
      "text/plain": []
     },
     "execution_count": 53,
     "metadata": {},
     "output_type": "execute_result"
    }
   ],
   "execution_count": 53
  },
  {
   "metadata": {
    "ExecuteTime": {
     "end_time": "2025-07-11T17:43:02.148994Z",
     "start_time": "2025-07-11T17:43:01.601557Z"
    }
   },
   "cell_type": "code",
   "source": [
    "import gradio as gr\n",
    "\n",
    "with gr.Blocks() as demo:\n",
    "    cart = gr.State([])\n",
    "    items_to_add = gr.CheckboxGroup([\"Cereal\", \"Milk\", \"Orange Juice\", \"Water\"])\n",
    "\n",
    "    def add_items(new_items, previous_cart):\n",
    "        cart = previous_cart + new_items\n",
    "        return cart\n",
    "\n",
    "    gr.Button(\"Add Items\").click(add_items, [items_to_add, cart], cart)\n",
    "\n",
    "    cart_size = gr.Number(label=\"Cart Size\")\n",
    "    cart.change(lambda cart: len(cart), cart, cart_size)\n",
    "\n",
    "demo.launch()"
   ],
   "id": "ad2d2aae505c61e4",
   "outputs": [
    {
     "name": "stdout",
     "output_type": "stream",
     "text": [
      "* Running on local URL:  http://127.0.0.1:7894\n",
      "\n",
      "To create a public link, set `share=True` in `launch()`.\n"
     ]
    },
    {
     "data": {
      "text/plain": [
       "<IPython.core.display.HTML object>"
      ],
      "text/html": [
       "<div><iframe src=\"http://127.0.0.1:7894/\" width=\"100%\" height=\"500\" allow=\"autoplay; camera; microphone; clipboard-read; clipboard-write;\" frameborder=\"0\" allowfullscreen></iframe></div>"
      ]
     },
     "metadata": {},
     "output_type": "display_data"
    },
    {
     "data": {
      "text/plain": []
     },
     "execution_count": 57,
     "metadata": {},
     "output_type": "execute_result"
    }
   ],
   "execution_count": 57
  }
 ],
 "metadata": {
  "kernelspec": {
   "display_name": "Python 3",
   "language": "python",
   "name": "python3"
  },
  "language_info": {
   "codemirror_mode": {
    "name": "ipython",
    "version": 2
   },
   "file_extension": ".py",
   "mimetype": "text/x-python",
   "name": "python",
   "nbconvert_exporter": "python",
   "pygments_lexer": "ipython2",
   "version": "2.7.6"
  }
 },
 "nbformat": 4,
 "nbformat_minor": 5
}

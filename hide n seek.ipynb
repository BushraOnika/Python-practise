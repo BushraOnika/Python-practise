{
 "cells": [
  {
   "cell_type": "code",
   "id": "initial_id",
   "metadata": {
    "collapsed": true,
    "ExecuteTime": {
     "end_time": "2025-07-08T14:40:11.878564Z",
     "start_time": "2025-07-08T14:40:11.851592Z"
    }
   },
   "source": [
    "import random\n",
    "from os import remove\n",
    "\n",
    "\n",
    "class Room:\n",
    "    def __init__(self):\n",
    "        self.player_in=random.randint(1,5)\n",
    "        self.numbers=[1,2,3,4,5]\n",
    "    def room_num_guess(num:int):\n",
    "        print('w')\n",
    "\n",
    "\n"
   ],
   "outputs": [],
   "execution_count": 1
  },
  {
   "metadata": {
    "ExecuteTime": {
     "end_time": "2025-07-08T14:40:11.894649Z",
     "start_time": "2025-07-08T14:40:11.888557Z"
    }
   },
   "cell_type": "code",
   "source": "import random",
   "id": "aadd6a8777bcb931",
   "outputs": [],
   "execution_count": 2
  },
  {
   "metadata": {
    "ExecuteTime": {
     "end_time": "2025-07-08T14:40:21.515891Z",
     "start_time": "2025-07-08T14:40:11.906824Z"
    }
   },
   "cell_type": "code",
   "source": [
    "player_room_num=random.randint(1,5)\n",
    "room_num_guess=int(input('Enter Number 1-5'))\n",
    "list_room=[1,2,3,4,5]\n",
    "while player_room_num!=room_num_guess:\n",
    "    list_room.remove(room_num_guess)\n",
    "    room_num_guess=int(input(f\"Sorry try again from {list_room}\"))\n",
    "print(\"You win\")"
   ],
   "id": "47ac31bcf0e60074",
   "outputs": [
    {
     "name": "stdout",
     "output_type": "stream",
     "text": [
      "You win\n"
     ]
    }
   ],
   "execution_count": 3
  },
  {
   "metadata": {
    "ExecuteTime": {
     "end_time": "2025-07-08T14:40:22.479079Z",
     "start_time": "2025-07-08T14:40:22.472600Z"
    }
   },
   "cell_type": "code",
   "source": "",
   "id": "9452515e80189bbd",
   "outputs": [],
   "execution_count": null
  }
 ],
 "metadata": {
  "kernelspec": {
   "display_name": "Python 3",
   "language": "python",
   "name": "python3"
  },
  "language_info": {
   "codemirror_mode": {
    "name": "ipython",
    "version": 2
   },
   "file_extension": ".py",
   "mimetype": "text/x-python",
   "name": "python",
   "nbconvert_exporter": "python",
   "pygments_lexer": "ipython2",
   "version": "2.7.6"
  }
 },
 "nbformat": 4,
 "nbformat_minor": 5
}
